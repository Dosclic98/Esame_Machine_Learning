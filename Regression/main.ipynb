{
 "cells": [
  {
   "cell_type": "code",
   "execution_count": 1,
   "metadata": {},
   "outputs": [],
   "source": [
    "from calendar import c\n",
    "import numpy as np\n",
    "import pandas as pd\n",
    "import matplotlib.pyplot as plt\n",
    "\n",
    "from mlr import MLR\n"
   ]
  },
  {
   "cell_type": "markdown",
   "metadata": {},
   "source": [
    "Define an evaluation method"
   ]
  },
  {
   "cell_type": "code",
   "execution_count": 2,
   "metadata": {},
   "outputs": [],
   "source": [
    "def calculateEvalMeasures(pred, targets, verbose = True):\n",
    "    m = len(pred)\n",
    "    mse = (((pred - targets)**2).sum() / (m))[0]\n",
    "    mae = ((abs(pred - targets)).sum() / (m))[0]\n",
    "    rmse = np.sqrt(mse)\n",
    "    rss = (((targets-pred)**2).sum())[0]\n",
    "    tss = (((targets-targets.mean())**2).sum())[0]\n",
    "    r2 = 1 - (rss/tss)\n",
    "    if verbose:\n",
    "        print(\"R^2:\", r2)\n",
    "        print(\"Mean Absolute Error:\", mae)\n",
    "        print(\"MSE:\", mse)\n",
    "        print(\"RMSE:\", rmse)\n",
    "    return r2, mae, mse, rmse"
   ]
  },
  {
   "cell_type": "markdown",
   "metadata": {},
   "source": [
    "Training performances using Autoscaling and Range-scaling"
   ]
  },
  {
   "cell_type": "code",
   "execution_count": 3,
   "metadata": {},
   "outputs": [
    {
     "name": "stdout",
     "output_type": "stream",
     "text": [
      "== Training results with Autoscaling ==\n",
      "R^2: 0.9254182191712128\n",
      "Mean Absolute Error: 3.71315862837132\n",
      "MSE: 21.72208350253979\n",
      "RMSE: 4.66069560286228\n",
      "== Training results with Range-scaling (min-max) ==\n",
      "R^2: 0.8943045993614558\n",
      "Mean Absolute Error: 4.401307406561619\n",
      "MSE: 30.78398360821479\n",
      "RMSE: 5.548331605826637\n"
     ]
    }
   ],
   "source": [
    "dataset = pd.read_csv(\"data/Folds5x2_pp.csv\")\n",
    "targetVarName = \"PE\"\n",
    "mlr = MLR(dataset, targetVarName, \"AUTO\")\n",
    "pred, params = mlr.learnParams(0.1)\n",
    "# Training evaluation\n",
    "targets = mlr.target\n",
    "print(\"== Training results with Autoscaling ==\")\n",
    "r2, mae, mse, rmse = calculateEvalMeasures(pred, targets, True)\n",
    "\n",
    "mlr = MLR(dataset, targetVarName, \"MINMAX\")\n",
    "pred, params = mlr.learnParams(0.1)\n",
    "# Training evaluation\n",
    "targets = mlr.target\n",
    "print(\"== Training results with Range-scaling (min-max) ==\")\n",
    "r2, mae, mse, rmse = calculateEvalMeasures(pred, targets, True)"
   ]
  },
  {
   "cell_type": "markdown",
   "metadata": {},
   "source": [
    "Cross-validation performances"
   ]
  },
  {
   "cell_type": "code",
   "execution_count": 4,
   "metadata": {},
   "outputs": [
    {
     "name": "stdout",
     "output_type": "stream",
     "text": [
      "== Cross-validation results (average) with Autoscaling ==\n",
      "R^2: 0.9237309236558033\n",
      "Mean Absolute Error: 3.7484542038868\n",
      "MSE: 22.16798763697417\n",
      "RMSE: 4.706745423717078\n",
      "== Cross-validation results (average) with Range scaling (min-max) ==\n",
      "R^2: 0.8939908663138336\n",
      "Mean Absolute Error: 4.384382593664254\n",
      "MSE: 30.83427086559265\n",
      "RMSE: 5.549760750419081\n"
     ]
    }
   ],
   "source": [
    "def crossValidate(dataset, groupNumber, targetVarName, normMethod, verbose):\n",
    "    dataset = dataset.sample(frac=1).reset_index(drop=True)\n",
    "    if groupNumber <= 1:\n",
    "        raise Exception(\"Set at least 2 cross-validation groups\")\n",
    "    \n",
    "    cvPartition = dataset.shape[0] // groupNumber\n",
    "    sumR2, sumMae, sumMse, sumRmse = 0, 0, 0, 0\n",
    "    for i in range(groupNumber):        \n",
    "        initialRow = i * cvPartition\n",
    "        finalRow = (i + 1) * cvPartition\n",
    "        testSet = dataset[initialRow:finalRow].reset_index(drop=True)\n",
    "        trainingSet = dataset.drop(dataset.index[initialRow:finalRow], axis = 0, inplace = False).reset_index(drop=True)\n",
    "        testTargets = testSet[[targetVarName]]\n",
    "        testSet = testSet.drop(targetVarName, axis=1)\n",
    "        cvMlr = MLR(trainingSet, targetVarName, normMethod)\n",
    "        trainingPred, params = cvMlr.learnParams(0.1)\n",
    "        testPred = cvMlr.test(testSet)\n",
    "        strOut = \"\"\n",
    "        if normMethod == \"AUTO\":\n",
    "            strOut = \"Autoscaling\"\n",
    "        elif normMethod == \"MINMAX\":\n",
    "            strOut = \"Range scaling (min-max)\"\n",
    "        if verbose:\n",
    "            print(\"== Cross-validation results with\", strOut, \" for group\", i,\"==\")\n",
    "        r2, mae, mse, rmse = calculateEvalMeasures(testPred, testTargets, verbose)\n",
    "        sumR2 += r2\n",
    "        sumMae += mae\n",
    "        sumMse += mse\n",
    "        sumRmse += rmse\n",
    "    r2 = sumR2 / groupNumber\n",
    "    mae = sumMae / groupNumber\n",
    "    mse = sumMse / groupNumber\n",
    "    rmse = sumRmse / groupNumber\n",
    "    print(\"== Cross-validation results (average) with\", strOut, \"==\")\n",
    "    print(\"R^2:\", r2)\n",
    "    print(\"Mean Absolute Error:\", mae)\n",
    "    print(\"MSE:\", mse)\n",
    "    print(\"RMSE:\", rmse)\n",
    "    \n",
    "    \n",
    "crossValidate(dataset, 10, targetVarName, \"AUTO\", False)\n",
    "crossValidate(dataset, 10, targetVarName, \"MINMAX\", False)"
   ]
  }
 ],
 "metadata": {
  "interpreter": {
   "hash": "e7370f93d1d0cde622a1f8e1c04877d8463912d04d973331ad4851f04de6915a"
  },
  "kernelspec": {
   "display_name": "Python 3.8.10 64-bit",
   "language": "python",
   "name": "python3"
  },
  "language_info": {
   "codemirror_mode": {
    "name": "ipython",
    "version": 3
   },
   "file_extension": ".py",
   "mimetype": "text/x-python",
   "name": "python",
   "nbconvert_exporter": "python",
   "pygments_lexer": "ipython3",
   "version": "3.8.10"
  },
  "orig_nbformat": 4
 },
 "nbformat": 4,
 "nbformat_minor": 2
}
