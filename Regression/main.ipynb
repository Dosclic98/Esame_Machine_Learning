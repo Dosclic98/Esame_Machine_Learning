{
 "cells": [
  {
   "cell_type": "code",
   "execution_count": 28,
   "metadata": {},
   "outputs": [],
   "source": [
    "from calendar import c\n",
    "import numpy as np\n",
    "import pandas as pd\n",
    "import matplotlib.pyplot as plt\n",
    "\n",
    "from mlr import MLR\n"
   ]
  },
  {
   "cell_type": "code",
   "execution_count": 29,
   "metadata": {},
   "outputs": [],
   "source": [
    "def calculateEvalMeasures(pred, targets, verbose = True):\n",
    "    m = len(pred)\n",
    "    mse = (((pred - targets)**2).sum() / (m))[0]\n",
    "    mae = ((abs(pred - targets)).sum() / (m))[0]\n",
    "    rmse = np.sqrt(mse)\n",
    "    rss = (((targets-pred)**2).sum())[0]\n",
    "    tss = (((targets-targets.mean())**2).sum())[0]\n",
    "    r2 = 1 - (rss/tss)\n",
    "    if verbose:\n",
    "        print(r2.shape)\n",
    "        print(\"== Results ==\")\n",
    "        print(\"R^2:\", r2)\n",
    "        print(\"Mean Absolute Error:\", mae)\n",
    "        print(\"MSE:\", mse)\n",
    "        print(\"RMSE:\", rmse)\n",
    "    return r2, mae, mse, rmse\n",
    "\n",
    "# TODO Implement Cross-validation"
   ]
  },
  {
   "cell_type": "code",
   "execution_count": 30,
   "metadata": {},
   "outputs": [
    {
     "name": "stdout",
     "output_type": "stream",
     "text": [
      "()\n",
      "== Results ==\n",
      "R^2: 0.9283720682372759\n",
      "Mean Absolute Error: 3.638194702772992\n",
      "MSE: 20.861769423767388\n",
      "RMSE: 4.567468601289711\n"
     ]
    }
   ],
   "source": [
    "dataset = pd.read_csv(\"data/Folds5x2_pp.csv\")\n",
    "mlr = MLR(dataset, \"PE\")\n",
    "pred, params = mlr.learnParams(0.1)\n",
    "# Training evaluation\n",
    "targets = mlr.target\n",
    "r2, mae, mse, rmse = calculateEvalMeasures(pred, targets, True)"
   ]
  }
 ],
 "metadata": {
  "interpreter": {
   "hash": "e7370f93d1d0cde622a1f8e1c04877d8463912d04d973331ad4851f04de6915a"
  },
  "kernelspec": {
   "display_name": "Python 3.8.10 64-bit",
   "language": "python",
   "name": "python3"
  },
  "language_info": {
   "codemirror_mode": {
    "name": "ipython",
    "version": 3
   },
   "file_extension": ".py",
   "mimetype": "text/x-python",
   "name": "python",
   "nbconvert_exporter": "python",
   "pygments_lexer": "ipython3",
   "version": "3.8.10"
  },
  "orig_nbformat": 4
 },
 "nbformat": 4,
 "nbformat_minor": 2
}
